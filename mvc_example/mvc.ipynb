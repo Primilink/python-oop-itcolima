{
 "cells": [
  {
   "cell_type": "markdown",
   "metadata": {},
   "source": [
    "<div style=\"display:flex;flex-direction:row;justify-content: space-evenly;\">\n",
    "<img src=\"tecnm.png\" style=\"height:100px;\"/>\n",
    "<img src=\"itcolima.svg\" style=\"width:100px\"/>\n",
    "</div>\n",
    "<div style=\"display:flex;flex-direction:column;gap:20px;text-align:center\">\n",
    "<h1>Tecnológico Nacional de México campus Colima</h1>\n",
    "<h2>Maestría en Sistemas Computacionales</h2>\n",
    "<h2>Tecnologías de programación</h2>\n",
    "<h2>Patrón de diseño arquitectural MVC</h2>\n",
    "<h2>D. en C. Patricia Elizabeth Figueroa Millán</h2>\n",
    "<h3>Angel Primitivo Vejar Cortés | G2146001 </h3>\n",
    "<p style=\"text-align:right;\">Villa de Álvarez, Colima - 30 de noviembre de 2022</p>\n",
    "<p></p>\n",
    "</div>"
   ]
  },
  {
   "cell_type": "markdown",
   "metadata": {},
   "source": [
    "## Objetivo\n",
    "\n",
    "Que el estudiante investigue el patrón MVC, lo entienda y lo aplique en un ejemplo simple con el lenguaje de programación Python. Además, que el estudiante sea capaz de documentar su trabajo en un notebook de Jupyter."
   ]
  },
  {
   "cell_type": "markdown",
   "metadata": {},
   "source": [
    "## Metodología\n",
    "\n",
    "Para el desarrollo del proyecto primero se relalizó una investigación documental por medio de los distintos posts de foros, blogs y páginas web que se encuentran en la red, después se buscó un ejemplo de aplicación del patrón MVC en Python y se analizó el código para entenderlo y poder aplicarlo en un ejemplo propio."
   ]
  },
  {
   "cell_type": "markdown",
   "metadata": {},
   "source": [
    "## Materiales\n",
    "Para el desarrollo de la actividad se utilizaron los siguientes materiales:\n",
    "* Computadora con acceso a internet\n",
    "* Editor de texto (Visual Studio Code)\n",
    "* Aplicación jupyter notebook\n"
   ]
  },
  {
   "cell_type": "markdown",
   "metadata": {},
   "source": [
    "## Desarrollo\n",
    "\n",
    "### Patrón MVC\n",
    "\n",
    "MVC proviene de las siglas en inglés Model-View-Controller [1], en donde cada componente significa lo siguiente:\n",
    "\n",
    "- **Modelo**: Es la capa que contiene toda la lógica de negocio de la aplicación, es decir, la lógica que se encarga de procesar los datos y de interactuar con la base de datos.\t\n",
    "\n",
    "- **Vista**: Es la capa que se encarga del \"frontend\" o interfaz gráfica de la aplicación, es decir, es la capa que se encarga de mostrar los datos al usuario.\n",
    "\n",
    "- **Controlador**: Acepta las entradas del usuario, delega la representación de la información a la vista y el manejo de la información a los modelos [2].\n",
    "\n",
    "La interacción de estas tres capas se puede observar en la Figura 1. El controlador inicia la vista, esta actualiza la información a través de setters y manejadores de eventos, entonces el controlador recibe la información y la envía al modelo para que este la procese y la devuelva al controlador para que este la envíe a la vista para que esta la muestre al usuario [1].\n",
    "\n",
    "<img src=\"mvc.png\" alt=\"Patrón MVC\" style=\"width: 400px;display:block;\" />\n",
    "Figura 1.- Patrón MVC [1]\n",
    "\n"
   ]
  },
  {
   "cell_type": "markdown",
   "metadata": {},
   "source": [
    "### Desarrollo del ejemplo\n",
    "\n",
    "Cada elemento del patrón MVC será una clase y su interacción se puede observar principalmente en el controlador, ya que este requiere de la vista y del modelo para funcionar. \n",
    "\n",
    "Comenzando con el **modelo**, se realizará un carrito de compras, el cual tendrá los siguientes atributos:\n",
    "\n",
    "- **Nombre**: Nombre del producto.\n",
    "- **Precio**: Precio del producto.\n",
    "- **Cantidad**: Cantidad de productos que se desean comprar.\n",
    "\n",
    "El modelo tendrá los métodos necesarios para atender las operaciones CRUD (Create, Read, Update, Delete).\n",
    "\n",
    "Por cuestión demostrativa, se utilizará una lista para almacenar los productos que se desean comprar (estos como diccionario), pero en un caso real se utilizaría una base de datos."
   ]
  },
  {
   "cell_type": "code",
   "execution_count": 1,
   "metadata": {},
   "outputs": [],
   "source": [
    "class Modelo():\n",
    "    def __init__(self):\n",
    "        self._carrito = []\n",
    "\n",
    "    def agregar_producto(self, producto):\n",
    "        \"\"\" Agrega un producto al carrito \"\"\"\n",
    "        # Verificar que el producto sea un diccionario que tiene nombre, precio y cantidad\n",
    "        if not isinstance(producto, dict):\n",
    "            raise TypeError(f\"El producto debe ser un diccionario\")\n",
    "\n",
    "        if not \"nombre\" in producto:\n",
    "            raise ValueError(f\"El producto debe tener un nombre\")\n",
    "\n",
    "        if not \"precio\" in producto:\n",
    "            raise ValueError(f\"El producto debe tener un precio\")\n",
    "\n",
    "        if not \"cantidad\" in producto:\n",
    "            raise ValueError(f\"El producto debe tener una cantidad\")\n",
    "\n",
    "        # Verificar que el producto no exista en el carrito\n",
    "        for p in self._carrito:\n",
    "            if p['nombre'] == producto['nombre']:\n",
    "                raise ValueError(f\"El producto ya existe en el carrito\")\n",
    "\n",
    "        # Agregar el producto al carrito\n",
    "        self._carrito.append(producto)\n",
    "\n",
    "    def eliminar_producto(self, nombre):\n",
    "        \"\"\" Elimina un producto del carrito \"\"\"\n",
    "        # Verificar que el producto exista en el carrito\n",
    "        for p in self._carrito:\n",
    "            if p['nombre'] == nombre:\n",
    "                self._carrito.remove(p)\n",
    "                return\n",
    "\n",
    "        raise ValueError(\"El producto no existe en el carrito\")    \n",
    "\n",
    "    def obtener_productos(self):\n",
    "        \"\"\" Obtiene todos los productos del carrito \"\"\"\n",
    "        return self._carrito\n",
    "\n",
    "    def obtener_producto(self, nombre):\n",
    "        \"\"\" Obtiene un producto del carrito \"\"\"\n",
    "        # Verificar que el producto exista en el carrito\n",
    "        for p in self._carrito:\n",
    "            if p['nombre'] == nombre:\n",
    "                return p\n",
    "        raise ValueError(\"El producto no existe en el carrito\")\n",
    "\n",
    "    def actualizar_producto(self, nombre, producto):\n",
    "        \"\"\" Actualiza un producto del carrito \"\"\"\n",
    "        # Verificar que el producto exista en el carrito\n",
    "        for p in self._carrito:\n",
    "            if p['nombre'] == nombre:\n",
    "                p['nombre'] = producto['nombre']\n",
    "                p['precio'] = producto['precio']\n",
    "                p['cantidad'] = producto['cantidad']\n",
    "                return\n",
    "\n",
    "        raise ValueError(\"El producto no existe en el carrito\")\n",
    "\n"
   ]
  },
  {
   "cell_type": "markdown",
   "metadata": {},
   "source": [
    "### Vista\n",
    "\n",
    "La vista suele ser la interfaz gráfica de usuario, sin embargo, por simplicidad se utilizará la consola de Python para mostrar los datos. A través de los disntintos métodos como confirmar cada operación, error, mostrar los datos, etc. \n",
    "\n"
   ]
  },
  {
   "cell_type": "code",
   "execution_count": 2,
   "metadata": {},
   "outputs": [],
   "source": [
    "class Vista():\n",
    "    def __init__(self):\n",
    "        pass\n",
    "\n",
    "    def mostrar_productos(self, productos):\n",
    "        \"\"\" Muestra todos los productos del carrito \"\"\"\n",
    "        print(\"# Productos del carrito:\")\n",
    "        for p in productos:\n",
    "            print(f\"#\\tNombre: {p['nombre']}, Precio: {p['precio']}, Cantidad: {p['cantidad']}\")\n",
    "\n",
    "    def mostrar_operacion(self, mensaje):\n",
    "        \"\"\" Muestra un mensaje de confirmación \"\"\"\n",
    "        print(f\"- Operación: {mensaje}\")\n",
    "\n",
    "    def mostrar_error(self, mensaje):\n",
    "        \"\"\" Muestra un mensaje de error \"\"\"\n",
    "        print(f\"! Error: {mensaje}\")\n",
    "\n",
    "    def mostrar_producto(self, producto):\n",
    "        \"\"\" Muestra un producto del carrito \"\"\"\n",
    "        print(f\"# Nombre: {producto['nombre']}, Precio: {producto['precio']}, Cantidad: {producto['cantidad']}\")"
   ]
  },
  {
   "cell_type": "markdown",
   "metadata": {},
   "source": [
    "### Controlador\n",
    "\n",
    "Por último se creará el controlador, el cual será el encargado de recibir las entradas del usuario, delegar la representación de la información a la vista y el manejo de la información a los modelos. Para ser creado este recibe como parámetro el modelo y la vista. \n",
    "Sus métodos sons similares a los del modelo, sin embargo, estos métodos se encargan de recibir los datos del usuario, enviarlos al modelo y recibir la respuesta del modelo para enviarla a la vista."
   ]
  },
  {
   "cell_type": "code",
   "execution_count": 3,
   "metadata": {},
   "outputs": [],
   "source": [
    "class Controlador():\n",
    "    def __init__(self, modelo, vista):\n",
    "        self._modelo = modelo\n",
    "        self._vista = vista\n",
    "\n",
    "    def agregar_producto(self, producto):\n",
    "        \"\"\" Agrega un producto al carrito \"\"\"\n",
    "        try:\n",
    "            self._modelo.agregar_producto(producto)\n",
    "            self._vista.mostrar_operacion(f\"Producto agregado: {producto['nombre']}\")\n",
    "        except ValueError as e:\n",
    "            self._vista.mostrar_error(e)\n",
    "\n",
    "    def eliminar_producto(self, nombre):\n",
    "        \"\"\" Elimina un producto del carrito \"\"\"\n",
    "        try:\n",
    "            self._modelo.eliminar_producto(nombre)\n",
    "            self._vista.mostrar_operacion(f\"Producto eliminado: {nombre}\")\n",
    "        except ValueError as e:\n",
    "            self._vista.mostrar_error(e)\n",
    "\n",
    "    def ver_producto(self, nombre):\n",
    "        \"\"\" Muestra un producto del carrito \"\"\"\n",
    "        try:\n",
    "            producto = self._modelo.obtener_producto(nombre)\n",
    "            self._vista.mostrar_producto(producto)\n",
    "        except ValueError as e:\n",
    "            self._vista.mostrar_error(e)\n",
    "\n",
    "    def ver_productos(self):\n",
    "        \"\"\" Muestra todos los productos del carrito \"\"\"\n",
    "        try:\n",
    "            productos = self._modelo.obtener_productos()\n",
    "            self._vista.mostrar_productos(productos)\n",
    "        except ValueError as e:\n",
    "            self._vista.mostrar_error(e)\n",
    "\n",
    "    def actualizar_producto(self, nombre, producto):\n",
    "        \"\"\" Actualiza un producto del carrito \"\"\"\n",
    "        try:\n",
    "            self._modelo.actualizar_producto(nombre, producto)\n",
    "            self._vista.mostrar_operacion(f\"Producto actualizado: {producto['nombre']}\")\n",
    "        except ValueError as e:\n",
    "            self._vista.mostrar_error(e)"
   ]
  },
  {
   "cell_type": "markdown",
   "metadata": {},
   "source": [
    "### Ejecución\n",
    "\n",
    "Para la ejecución de la aplicación se utilizará el siguiente código:\n"
   ]
  },
  {
   "cell_type": "code",
   "execution_count": 4,
   "metadata": {},
   "outputs": [
    {
     "name": "stdout",
     "output_type": "stream",
     "text": [
      "- Operación: Producto agregado: Leche\n",
      "# Productos del carrito:\n",
      "#\tNombre: Leche, Precio: 10, Cantidad: 1\n",
      "- Operación: Producto actualizado: Leche\n",
      "- Operación: Producto agregado: Pan\n",
      "# Productos del carrito:\n",
      "#\tNombre: Leche, Precio: 15, Cantidad: 2\n",
      "#\tNombre: Pan, Precio: 5, Cantidad: 1\n",
      "- Operación: Producto eliminado: Leche\n",
      "! Error: El producto no existe en el carrito\n",
      "# Productos del carrito:\n",
      "#\tNombre: Pan, Precio: 5, Cantidad: 1\n",
      "- Operación: Producto agregado: Leche\n",
      "! Error: El producto ya existe en el carrito\n",
      "# Nombre: Pan, Precio: 5, Cantidad: 1\n"
     ]
    }
   ],
   "source": [
    "if __name__ == \"__main__\":\n",
    "    # Creamos el modelo\n",
    "    model = Modelo()\n",
    "    # Creamos la vista\n",
    "    view = Vista()\n",
    "    # Creamos el controlador\n",
    "    controller = Controlador(model, view)\n",
    "\n",
    "    # Agregamos productos al carrito\n",
    "    controller.agregar_producto({\"nombre\": \"Leche\", \"precio\": 10, \"cantidad\": 1})\n",
    "\n",
    "    # Mostramos los productos del carrito\n",
    "    controller.ver_productos()\n",
    "\n",
    "    # Actualizamos un producto del carrito\n",
    "    controller.actualizar_producto(\"Leche\", {\"nombre\": \"Leche\", \"precio\": 15, \"cantidad\": 2})\n",
    "\n",
    "    # Agregamos otro producto al carrito\n",
    "    controller.agregar_producto({\"nombre\": \"Pan\", \"precio\": 5, \"cantidad\": 1})\n",
    "\n",
    "    # Mostramos los productos del carrito\n",
    "    controller.ver_productos()\n",
    "\n",
    "    # Eliminamos un producto del carrito\n",
    "    controller.eliminar_producto(\"Leche\")\n",
    "\n",
    "    # Buscamos el producto eliminado\n",
    "    controller.ver_producto(\"Leche\")\n",
    "\n",
    "    # Mostramos los productos del carrito\n",
    "    controller.ver_productos()\n",
    "\n",
    "    # Agregamos un producto dos veces\n",
    "    controller.agregar_producto({\"nombre\": \"Leche\", \"precio\": 10, \"cantidad\": 1})\n",
    "    controller.agregar_producto({\"nombre\": \"Leche\", \"precio\": 10, \"cantidad\": 1})\n",
    "\n",
    "    # Mostramos el pan del carrito\n",
    "    controller.ver_producto(\"Pan\")"
   ]
  },
  {
   "cell_type": "markdown",
   "metadata": {},
   "source": [
    "## Resultados\n",
    "\n",
    "En el bloque de código anterior se muestra la ejecución y el uso de la aplicación. A través de la interfaz de controlador se puede interactuar con la aplicación, este controlador delega la representación de la información a la vista y el manejo de la información a los modelos. El modelo al generar un error se lo envía al controlador para que este lo muestre en la vista. Así como confirmar a través de la vista la realización de cada operación."
   ]
  },
  {
   "cell_type": "markdown",
   "metadata": {},
   "source": [
    "## Conclusiones\n",
    "\n",
    "El uso de patrones como el MVC permite desarrollar aplicaciones de manera más ordenada y eficiente, ya que permite separar las distintas capas de la aplicación permitiendo un desacoplamiento entre ellas, lo que facilita el mantenimiento y la escalabilidad de la aplicación. El modelo puede cambiar de motor de base de datos sin afectar a la vista, la vista puede cambiar de tecnología sin afectar al modelo, y el controlador puede cambiar de tecnología sin afectar a la vista ni al modelo. "
   ]
  },
  {
   "cell_type": "markdown",
   "metadata": {},
   "source": [
    "## Bibliografía\n",
    "1. R. Hernandez, The Model View Controller Pattern – MVC Architecture and Frameworks Explained, 2021. [Online]. Available: https://www.freecodecamp.org/news/the-model-view-controller-pattern-mvc-architecture-and-frameworks-explained/. [Accessed: 30-Nov-2022]. \n",
    "2. G. Debidda, MVC pattern in Python: Introduction and BasicModel, 2017. [Online]. Available: https://www.giacomodebidda.com/posts/mvc-pattern-in-python-introduction-and-basicmodel/. [Accessed: 30-Nov-2022]. "
   ]
  }
 ],
 "metadata": {
  "kernelspec": {
   "display_name": "Python 3.10.5 64-bit",
   "language": "python",
   "name": "python3"
  },
  "language_info": {
   "codemirror_mode": {
    "name": "ipython",
    "version": 3
   },
   "file_extension": ".py",
   "mimetype": "text/x-python",
   "name": "python",
   "nbconvert_exporter": "python",
   "pygments_lexer": "ipython3",
   "version": "3.10.5"
  },
  "orig_nbformat": 4,
  "vscode": {
   "interpreter": {
    "hash": "369f2c481f4da34e4445cda3fffd2e751bd1c4d706f27375911949ba6bb62e1c"
   }
  }
 },
 "nbformat": 4,
 "nbformat_minor": 2
}
