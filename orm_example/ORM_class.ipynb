{
 "cells": [
  {
   "attachments": {},
   "cell_type": "markdown",
   "metadata": {},
   "source": [
    "### Librería y conexión"
   ]
  },
  {
   "cell_type": "code",
   "execution_count": 1,
   "metadata": {},
   "outputs": [],
   "source": [
    "import sqlalchemy\n",
    "\n",
    "# engine = sqlalchemy.create_engine('sqlite:///data.db', echo=True) # echo=True prints out the SQL commands\n",
    "engine = sqlalchemy.create_engine('sqlite:///:memory:', echo=True) # memory is for testing\n",
    "\n",
    "# Declarative Base\n",
    "from sqlalchemy.ext.declarative import declarative_base\n",
    "Base = declarative_base()\n",
    "\n",
    "# Data types\n",
    "from sqlalchemy import Column, Integer, String\n"
   ]
  },
  {
   "attachments": {},
   "cell_type": "markdown",
   "metadata": {},
   "source": [
    "### Definición de modelos"
   ]
  },
  {
   "cell_type": "code",
   "execution_count": 2,
   "metadata": {},
   "outputs": [],
   "source": [
    "# Model definition\n",
    "class User(Base):\n",
    "    __tablename__ = 'users'\n",
    "    \n",
    "    id = Column(Integer, primary_key=True)\n",
    "    name = Column(String)\n",
    "    fullname = Column(String)\n",
    "    password = Column(String)\n",
    "\n",
    "    def __repr__(self):\n",
    "        return \"<User(name='%s', fullname='%s', password='%s')>\" % (self.name, self.fullname, self.password)"
   ]
  },
  {
   "attachments": {},
   "cell_type": "markdown",
   "metadata": {},
   "source": [
    "### Creación de tablas a partir de modelos"
   ]
  },
  {
   "cell_type": "code",
   "execution_count": 3,
   "metadata": {},
   "outputs": [
    {
     "name": "stdout",
     "output_type": "stream",
     "text": [
      "2022-12-13 15:17:14,834 INFO sqlalchemy.engine.Engine BEGIN (implicit)\n",
      "2022-12-13 15:17:14,838 INFO sqlalchemy.engine.Engine PRAGMA main.table_info(\"users\")\n",
      "2022-12-13 15:17:14,840 INFO sqlalchemy.engine.Engine [raw sql] ()\n",
      "2022-12-13 15:17:14,843 INFO sqlalchemy.engine.Engine PRAGMA temp.table_info(\"users\")\n",
      "2022-12-13 15:17:14,845 INFO sqlalchemy.engine.Engine [raw sql] ()\n",
      "2022-12-13 15:17:14,851 INFO sqlalchemy.engine.Engine \n",
      "CREATE TABLE users (\n",
      "\tid INTEGER NOT NULL, \n",
      "\tname VARCHAR, \n",
      "\tfullname VARCHAR, \n",
      "\tpassword VARCHAR, \n",
      "\tPRIMARY KEY (id)\n",
      ")\n",
      "\n",
      "\n",
      "2022-12-13 15:17:14,853 INFO sqlalchemy.engine.Engine [no key 0.00184s] ()\n",
      "2022-12-13 15:17:14,855 INFO sqlalchemy.engine.Engine COMMIT\n"
     ]
    }
   ],
   "source": [
    "# Table configuration\n",
    "Base.metadata.create_all(engine)"
   ]
  },
  {
   "attachments": {},
   "cell_type": "markdown",
   "metadata": {},
   "source": [
    "### Creación de sesión"
   ]
  },
  {
   "cell_type": "code",
   "execution_count": 4,
   "metadata": {},
   "outputs": [],
   "source": [
    "from sqlalchemy.orm import sessionmaker\n",
    "\n",
    "Session = sessionmaker(bind=engine)\n",
    "session = Session()"
   ]
  },
  {
   "attachments": {},
   "cell_type": "markdown",
   "metadata": {},
   "source": [
    "### Prueba de modelos"
   ]
  },
  {
   "cell_type": "code",
   "execution_count": 5,
   "metadata": {},
   "outputs": [
    {
     "data": {
      "text/plain": [
       "<User(name='ed', fullname='Ed Jones', password='edspassword')>"
      ]
     },
     "execution_count": 5,
     "metadata": {},
     "output_type": "execute_result"
    }
   ],
   "source": [
    "# Create a new user\n",
    "ed_user = User(name='ed', fullname='Ed Jones', password='edspassword')\n",
    "session.add(ed_user)\n",
    "ed_user"
   ]
  },
  {
   "cell_type": "code",
   "execution_count": 6,
   "metadata": {},
   "outputs": [
    {
     "name": "stdout",
     "output_type": "stream",
     "text": [
      "2022-12-13 15:17:15,102 INFO sqlalchemy.engine.Engine BEGIN (implicit)\n",
      "2022-12-13 15:17:15,110 INFO sqlalchemy.engine.Engine INSERT INTO users (name, fullname, password) VALUES (?, ?, ?)\n",
      "2022-12-13 15:17:15,113 INFO sqlalchemy.engine.Engine [generated in 0.00327s] ('ed', 'Ed Jones', 'edspassword')\n",
      "2022-12-13 15:17:15,125 INFO sqlalchemy.engine.Engine SELECT users.id AS users_id, users.name AS users_name, users.fullname AS users_fullname, users.password AS users_password \n",
      "FROM users \n",
      "WHERE users.name = ?\n",
      " LIMIT ? OFFSET ?\n",
      "2022-12-13 15:17:15,127 INFO sqlalchemy.engine.Engine [generated in 0.00215s] ('ed', 1, 0)\n",
      "<User(name='ed', fullname='Ed Jones', password='edspassword')>\n"
     ]
    }
   ],
   "source": [
    "user = session.query(User).filter_by(name='ed').first()\n",
    "if user:\n",
    "    print(user)\n",
    "else:\n",
    "    print('No user found')"
   ]
  },
  {
   "cell_type": "code",
   "execution_count": 7,
   "metadata": {},
   "outputs": [],
   "source": [
    "# Multiple modifications in a single commit\n",
    "session.add_all([\n",
    "    User(name='wendy', fullname='Wendy Williams', password='foobar'),\n",
    "    User(name='mary', fullname='Mary Contrary', password='xxg527'),\n",
    "    User(name='fred', fullname='Fred Flinstone', password='blah')])\n",
    "\n",
    "ed_user.password = 'f8s7ccs'\n",
    "ed_user.fullname = 'Eduardo Jones'"
   ]
  },
  {
   "cell_type": "code",
   "execution_count": 8,
   "metadata": {},
   "outputs": [
    {
     "name": "stdout",
     "output_type": "stream",
     "text": [
      "2022-12-13 15:17:15,283 INFO sqlalchemy.engine.Engine UPDATE users SET fullname=?, password=? WHERE users.id = ?\n",
      "2022-12-13 15:17:15,285 INFO sqlalchemy.engine.Engine [generated in 0.00237s] ('Eduardo Jones', 'f8s7ccs', 1)\n",
      "2022-12-13 15:17:15,288 INFO sqlalchemy.engine.Engine INSERT INTO users (name, fullname, password) VALUES (?, ?, ?)\n",
      "2022-12-13 15:17:15,290 INFO sqlalchemy.engine.Engine [cached since 0.1799s ago] ('wendy', 'Wendy Williams', 'foobar')\n",
      "2022-12-13 15:17:15,292 INFO sqlalchemy.engine.Engine INSERT INTO users (name, fullname, password) VALUES (?, ?, ?)\n",
      "2022-12-13 15:17:15,294 INFO sqlalchemy.engine.Engine [cached since 0.1836s ago] ('mary', 'Mary Contrary', 'xxg527')\n",
      "2022-12-13 15:17:15,296 INFO sqlalchemy.engine.Engine INSERT INTO users (name, fullname, password) VALUES (?, ?, ?)\n",
      "2022-12-13 15:17:15,300 INFO sqlalchemy.engine.Engine [cached since 0.1896s ago] ('fred', 'Fred Flinstone', 'blah')\n",
      "2022-12-13 15:17:15,305 INFO sqlalchemy.engine.Engine COMMIT\n"
     ]
    }
   ],
   "source": [
    "session.commit()"
   ]
  },
  {
   "attachments": {},
   "cell_type": "markdown",
   "metadata": {},
   "source": [
    "### Retroceder cambios\n"
   ]
  },
  {
   "cell_type": "code",
   "execution_count": 9,
   "metadata": {},
   "outputs": [
    {
     "name": "stdout",
     "output_type": "stream",
     "text": [
      "2022-12-13 15:17:15,389 INFO sqlalchemy.engine.Engine BEGIN (implicit)\n",
      "2022-12-13 15:17:15,395 INFO sqlalchemy.engine.Engine SELECT users.id AS users_id, users.name AS users_name, users.password AS users_password \n",
      "FROM users \n",
      "WHERE users.id = ?\n",
      "2022-12-13 15:17:15,399 INFO sqlalchemy.engine.Engine [generated in 0.00486s] (1,)\n",
      "2022-12-13 15:17:15,404 INFO sqlalchemy.engine.Engine UPDATE users SET fullname=? WHERE users.id = ?\n",
      "2022-12-13 15:17:15,406 INFO sqlalchemy.engine.Engine [generated in 0.00223s] ('Ed Jones', 1)\n",
      "2022-12-13 15:17:15,408 INFO sqlalchemy.engine.Engine INSERT INTO users (name, fullname, password) VALUES (?, ?, ?)\n",
      "2022-12-13 15:17:15,410 INFO sqlalchemy.engine.Engine [cached since 0.3s ago] ('fakeuser', 'Invalid', '12345')\n",
      "2022-12-13 15:17:15,415 INFO sqlalchemy.engine.Engine SELECT users.id AS users_id, users.name AS users_name, users.fullname AS users_fullname, users.password AS users_password \n",
      "FROM users \n",
      "WHERE users.name IN (?, ?)\n",
      "2022-12-13 15:17:15,418 INFO sqlalchemy.engine.Engine [generated in 0.00321s] ('ed', 'fakeuser')\n"
     ]
    },
    {
     "data": {
      "text/plain": [
       "[<User(name='ed', fullname='Ed Jones', password='f8s7ccs')>,\n",
       " <User(name='fakeuser', fullname='Invalid', password='12345')>]"
      ]
     },
     "execution_count": 9,
     "metadata": {},
     "output_type": "execute_result"
    }
   ],
   "source": [
    "# Cambios nuevos\n",
    "ed_user.fullname = 'Ed Jones'\n",
    "\n",
    "fake_user = User(name='fakeuser', fullname='Invalid', password='12345')\n",
    "session.add(fake_user)\n",
    "\n",
    "session.query(User).filter(User.name.in_(['ed', 'fakeuser'])).all()\n"
   ]
  },
  {
   "cell_type": "code",
   "execution_count": 10,
   "metadata": {},
   "outputs": [
    {
     "name": "stdout",
     "output_type": "stream",
     "text": [
      "2022-12-13 15:17:15,495 INFO sqlalchemy.engine.Engine ROLLBACK\n",
      "2022-12-13 15:17:15,502 INFO sqlalchemy.engine.Engine BEGIN (implicit)\n",
      "2022-12-13 15:17:15,508 INFO sqlalchemy.engine.Engine SELECT users.id AS users_id, users.name AS users_name, users.fullname AS users_fullname, users.password AS users_password \n",
      "FROM users \n",
      "WHERE users.name IN (?, ?)\n",
      "2022-12-13 15:17:15,510 INFO sqlalchemy.engine.Engine [cached since 0.09544s ago] ('ed', 'fakeuser')\n"
     ]
    },
    {
     "data": {
      "text/plain": [
       "[<User(name='ed', fullname='Eduardo Jones', password='f8s7ccs')>]"
      ]
     },
     "execution_count": 10,
     "metadata": {},
     "output_type": "execute_result"
    }
   ],
   "source": [
    "# Rollback\n",
    "session.rollback()\n",
    "session.query(User).filter(User.name.in_(['ed', 'fakeuser'])).all()\n"
   ]
  },
  {
   "attachments": {},
   "cell_type": "markdown",
   "metadata": {},
   "source": [
    "### Consultas"
   ]
  },
  {
   "cell_type": "code",
   "execution_count": 11,
   "metadata": {},
   "outputs": [
    {
     "name": "stdout",
     "output_type": "stream",
     "text": [
      "2022-12-13 15:17:15,632 INFO sqlalchemy.engine.Engine SELECT users.id AS users_id, users.name AS users_name, users.fullname AS users_fullname, users.password AS users_password \n",
      "FROM users ORDER BY users.id\n",
      "2022-12-13 15:17:15,635 INFO sqlalchemy.engine.Engine [generated in 0.00407s] ()\n",
      "<User(name='ed', fullname='Eduardo Jones', password='f8s7ccs')>\n",
      "<User(name='wendy', fullname='Wendy Williams', password='foobar')>\n",
      "<User(name='mary', fullname='Mary Contrary', password='xxg527')>\n",
      "<User(name='fred', fullname='Fred Flinstone', password='blah')>\n"
     ]
    }
   ],
   "source": [
    "for instance in session.query(User).order_by(User.id):\n",
    "    print(instance)"
   ]
  },
  {
   "cell_type": "code",
   "execution_count": 12,
   "metadata": {},
   "outputs": [
    {
     "name": "stdout",
     "output_type": "stream",
     "text": [
      "2022-12-13 15:17:15,737 INFO sqlalchemy.engine.Engine SELECT users.name AS users_name, users.fullname AS users_fullname \n",
      "FROM users\n",
      "2022-12-13 15:17:15,741 INFO sqlalchemy.engine.Engine [generated in 0.00405s] ()\n",
      "ed Eduardo Jones\n",
      "wendy Wendy Williams\n",
      "mary Mary Contrary\n",
      "fred Fred Flinstone\n"
     ]
    }
   ],
   "source": [
    "for name, fullname in session.query(User.name, User.fullname):\n",
    "    print(name, fullname)"
   ]
  },
  {
   "attachments": {},
   "cell_type": "markdown",
   "metadata": {},
   "source": [
    "### Filtro"
   ]
  },
  {
   "cell_type": "code",
   "execution_count": 13,
   "metadata": {},
   "outputs": [
    {
     "name": "stdout",
     "output_type": "stream",
     "text": [
      "2022-12-13 15:17:15,849 INFO sqlalchemy.engine.Engine SELECT users.id AS users_id, users.name AS users_name, users.fullname AS users_fullname, users.password AS users_password \n",
      "FROM users \n",
      "WHERE users.name = ?\n",
      "2022-12-13 15:17:15,851 INFO sqlalchemy.engine.Engine [generated in 0.00294s] ('ed',)\n",
      "<User(name='ed', fullname='Eduardo Jones', password='f8s7ccs')>\n"
     ]
    }
   ],
   "source": [
    "# equals\n",
    "for user in session.query(User).filter(User.name=='ed'):\n",
    "    print(user)"
   ]
  },
  {
   "cell_type": "code",
   "execution_count": 14,
   "metadata": {},
   "outputs": [
    {
     "name": "stdout",
     "output_type": "stream",
     "text": [
      "2022-12-13 15:17:15,951 INFO sqlalchemy.engine.Engine SELECT users.id AS users_id, users.name AS users_name, users.fullname AS users_fullname, users.password AS users_password \n",
      "FROM users \n",
      "WHERE users.name != ?\n",
      "2022-12-13 15:17:15,954 INFO sqlalchemy.engine.Engine [generated in 0.00342s] ('ed',)\n",
      "<User(name='wendy', fullname='Wendy Williams', password='foobar')>\n",
      "<User(name='mary', fullname='Mary Contrary', password='xxg527')>\n",
      "<User(name='fred', fullname='Fred Flinstone', password='blah')>\n"
     ]
    }
   ],
   "source": [
    "# not equals\n",
    "for user in session.query(User).filter(User.name!='ed'):\n",
    "    print(user)"
   ]
  },
  {
   "cell_type": "code",
   "execution_count": 15,
   "metadata": {},
   "outputs": [
    {
     "name": "stdout",
     "output_type": "stream",
     "text": [
      "2022-12-13 15:17:16,033 INFO sqlalchemy.engine.Engine SELECT users.id AS users_id, users.name AS users_name, users.fullname AS users_fullname, users.password AS users_password \n",
      "FROM users \n",
      "WHERE users.name LIKE ?\n",
      "2022-12-13 15:17:16,037 INFO sqlalchemy.engine.Engine [generated in 0.00364s] ('%ed%',)\n",
      "<User(name='ed', fullname='Eduardo Jones', password='f8s7ccs')>\n",
      "<User(name='fred', fullname='Fred Flinstone', password='blah')>\n"
     ]
    }
   ],
   "source": [
    "# like\n",
    "for user in session.query(User).filter(User.name.like('%ed%')):\n",
    "    print(user)"
   ]
  },
  {
   "cell_type": "code",
   "execution_count": 16,
   "metadata": {},
   "outputs": [
    {
     "name": "stdout",
     "output_type": "stream",
     "text": [
      "2022-12-13 15:17:16,142 INFO sqlalchemy.engine.Engine SELECT users.id AS users_id, users.name AS users_name, users.fullname AS users_fullname, users.password AS users_password \n",
      "FROM users \n",
      "WHERE users.name IN (?, ?, ?)\n",
      "2022-12-13 15:17:16,146 INFO sqlalchemy.engine.Engine [cached since 0.732s ago] ('ed', 'wendy', 'gil')\n",
      "<User(name='ed', fullname='Eduardo Jones', password='f8s7ccs')>\n",
      "<User(name='wendy', fullname='Wendy Williams', password='foobar')>\n"
     ]
    }
   ],
   "source": [
    "# in\n",
    "for user in session.query(User).filter(User.name.in_(['ed', 'wendy', 'gil'])):\n",
    "    print(user)\n",
    "    "
   ]
  },
  {
   "cell_type": "code",
   "execution_count": 17,
   "metadata": {},
   "outputs": [
    {
     "name": "stdout",
     "output_type": "stream",
     "text": [
      "2022-12-13 15:17:16,261 INFO sqlalchemy.engine.Engine SELECT users.id AS users_id, users.name AS users_name, users.fullname AS users_fullname, users.password AS users_password \n",
      "FROM users \n",
      "WHERE (users.name NOT IN (?, ?, ?))\n",
      "2022-12-13 15:17:16,265 INFO sqlalchemy.engine.Engine [generated in 0.00407s] ('ed', 'wendy', 'gil')\n",
      "<User(name='mary', fullname='Mary Contrary', password='xxg527')>\n",
      "<User(name='fred', fullname='Fred Flinstone', password='blah')>\n"
     ]
    }
   ],
   "source": [
    "# not in\n",
    "for user in session.query(User).filter(~User.name.in_(['ed', 'wendy', 'gil'])):\n",
    "    print(user)"
   ]
  },
  {
   "cell_type": "code",
   "execution_count": 18,
   "metadata": {},
   "outputs": [
    {
     "name": "stdout",
     "output_type": "stream",
     "text": [
      "2022-12-13 15:17:16,424 INFO sqlalchemy.engine.Engine SELECT users.id AS users_id, users.name AS users_name, users.fullname AS users_fullname, users.password AS users_password \n",
      "FROM users \n",
      "WHERE users.name = ? AND users.fullname = ?\n",
      "2022-12-13 15:17:16,429 INFO sqlalchemy.engine.Engine [generated in 0.00451s] ('ed', 'Eduardo Jones')\n",
      "<User(name='ed', fullname='Eduardo Jones', password='f8s7ccs')>\n"
     ]
    }
   ],
   "source": [
    "# And\n",
    "for user in session.query(User).filter(User.name=='ed', User.fullname=='Eduardo Jones'):\n",
    "    print(user)"
   ]
  },
  {
   "cell_type": "code",
   "execution_count": 19,
   "metadata": {},
   "outputs": [
    {
     "name": "stdout",
     "output_type": "stream",
     "text": [
      "2022-12-13 15:17:16,653 INFO sqlalchemy.engine.Engine SELECT users.id AS users_id, users.name AS users_name, users.fullname AS users_fullname, users.password AS users_password \n",
      "FROM users \n",
      "WHERE users.name = ? OR users.name = ?\n",
      "2022-12-13 15:17:16,658 INFO sqlalchemy.engine.Engine [generated in 0.00509s] ('ed', 'wendy')\n",
      "<User(name='ed', fullname='Eduardo Jones', password='f8s7ccs')>\n",
      "<User(name='wendy', fullname='Wendy Williams', password='foobar')>\n"
     ]
    }
   ],
   "source": [
    "# Or\n",
    "for user in session.query(User).filter(sqlalchemy.or_(User.name=='ed', User.name=='wendy')):\n",
    "    print(user)"
   ]
  },
  {
   "attachments": {},
   "cell_type": "markdown",
   "metadata": {},
   "source": [
    "### Relaciones"
   ]
  },
  {
   "cell_type": "code",
   "execution_count": 20,
   "metadata": {},
   "outputs": [],
   "source": [
    "from sqlalchemy import ForeignKey\n",
    "from sqlalchemy.orm import relationship\n",
    "\n",
    "class Address(Base):\n",
    "    __tablename__ = 'addresses'\n",
    "    id = Column(Integer, primary_key=True)\n",
    "    email_address = Column(String, nullable=False)\n",
    "    user_id = Column(Integer, ForeignKey('users.id'))\n",
    "    user = relationship(\"User\", back_populates=\"addresses\")\n",
    "    \n",
    "    def __repr__(self):\n",
    "        return \"<Address(email_address='%s')>\" % self.email_address"
   ]
  },
  {
   "cell_type": "code",
   "execution_count": 21,
   "metadata": {},
   "outputs": [
    {
     "name": "stdout",
     "output_type": "stream",
     "text": [
      "2022-12-13 15:17:17,006 INFO sqlalchemy.engine.Engine BEGIN (implicit)\n",
      "2022-12-13 15:17:17,009 INFO sqlalchemy.engine.Engine PRAGMA main.table_info(\"users\")\n",
      "2022-12-13 15:17:17,012 INFO sqlalchemy.engine.Engine [raw sql] ()\n",
      "2022-12-13 15:17:17,017 INFO sqlalchemy.engine.Engine PRAGMA main.table_info(\"addresses\")\n",
      "2022-12-13 15:17:17,019 INFO sqlalchemy.engine.Engine [raw sql] ()\n",
      "2022-12-13 15:17:17,023 INFO sqlalchemy.engine.Engine PRAGMA temp.table_info(\"addresses\")\n",
      "2022-12-13 15:17:17,024 INFO sqlalchemy.engine.Engine [raw sql] ()\n",
      "2022-12-13 15:17:17,028 INFO sqlalchemy.engine.Engine \n",
      "CREATE TABLE addresses (\n",
      "\tid INTEGER NOT NULL, \n",
      "\temail_address VARCHAR NOT NULL, \n",
      "\tuser_id INTEGER, \n",
      "\tPRIMARY KEY (id), \n",
      "\tFOREIGN KEY(user_id) REFERENCES users (id)\n",
      ")\n",
      "\n",
      "\n",
      "2022-12-13 15:17:17,030 INFO sqlalchemy.engine.Engine [no key 0.00270s] ()\n",
      "2022-12-13 15:17:17,034 INFO sqlalchemy.engine.Engine COMMIT\n"
     ]
    }
   ],
   "source": [
    "User.addresses = relationship(\"Address\", order_by=Address.id, back_populates=\"user\")\n",
    "\n",
    "Base.metadata.create_all(engine)"
   ]
  },
  {
   "cell_type": "code",
   "execution_count": 22,
   "metadata": {},
   "outputs": [
    {
     "name": "stdout",
     "output_type": "stream",
     "text": [
      "2022-12-13 15:17:17,185 INFO sqlalchemy.engine.Engine SELECT addresses.id AS addresses_id, addresses.email_address AS addresses_email_address, addresses.user_id AS addresses_user_id \n",
      "FROM addresses \n",
      "WHERE ? = addresses.user_id ORDER BY addresses.id\n",
      "2022-12-13 15:17:17,188 INFO sqlalchemy.engine.Engine [generated in 0.00322s] (1,)\n",
      "2022-12-13 15:17:17,196 INFO sqlalchemy.engine.Engine INSERT INTO addresses (email_address, user_id) VALUES (?, ?)\n",
      "2022-12-13 15:17:17,199 INFO sqlalchemy.engine.Engine [generated in 0.00405s] ('hola@col.com', 1)\n",
      "2022-12-13 15:17:17,203 INFO sqlalchemy.engine.Engine INSERT INTO addresses (email_address, user_id) VALUES (?, ?)\n",
      "2022-12-13 15:17:17,205 INFO sqlalchemy.engine.Engine [cached since 0.009338s ago] ('rock@lml.com', 1)\n",
      "2022-12-13 15:17:17,208 INFO sqlalchemy.engine.Engine COMMIT\n"
     ]
    }
   ],
   "source": [
    "ed_user.addresses = [Address(email_address=\"hola@col.com\"), Address(email_address=\"rock@lml.com\")]\n",
    "\n",
    "session.add(ed_user)\n",
    "session.commit()"
   ]
  },
  {
   "cell_type": "code",
   "execution_count": 23,
   "metadata": {},
   "outputs": [
    {
     "name": "stdout",
     "output_type": "stream",
     "text": [
      "2022-12-13 15:21:19,320 INFO sqlalchemy.engine.Engine BEGIN (implicit)\n",
      "2022-12-13 15:21:19,327 INFO sqlalchemy.engine.Engine SELECT users.id AS users_id, users.name AS users_name, users.fullname AS users_fullname, users.password AS users_password, addresses.id AS addresses_id, addresses.email_address AS addresses_email_address, addresses.user_id AS addresses_user_id \n",
      "FROM users, addresses \n",
      "WHERE users.id = addresses.user_id\n",
      "2022-12-13 15:21:19,330 INFO sqlalchemy.engine.Engine [generated in 0.00257s] ()\n",
      "<User(name='ed', fullname='Eduardo Jones', password='f8s7ccs')>\n",
      "<Address(email_address='hola@col.com')>\n",
      "<User(name='ed', fullname='Eduardo Jones', password='f8s7ccs')>\n",
      "<Address(email_address='rock@lml.com')>\n"
     ]
    }
   ],
   "source": [
    "# print all users and their addresses\n",
    "for u, a in session.query(User, Address).filter(User.id==Address.user_id):\n",
    "    print(u)\n",
    "    print(a)"
   ]
  }
 ],
 "metadata": {
  "kernelspec": {
   "display_name": "Python 3",
   "language": "python",
   "name": "python3"
  },
  "language_info": {
   "codemirror_mode": {
    "name": "ipython",
    "version": 3
   },
   "file_extension": ".py",
   "mimetype": "text/x-python",
   "name": "python",
   "nbconvert_exporter": "python",
   "pygments_lexer": "ipython3",
   "version": "3.10.5"
  },
  "orig_nbformat": 4,
  "vscode": {
   "interpreter": {
    "hash": "369f2c481f4da34e4445cda3fffd2e751bd1c4d706f27375911949ba6bb62e1c"
   }
  }
 },
 "nbformat": 4,
 "nbformat_minor": 2
}
