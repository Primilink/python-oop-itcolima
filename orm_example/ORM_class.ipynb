{
 "cells": [
  {
   "attachments": {},
   "cell_type": "markdown",
   "metadata": {},
   "source": [
    "<div style=\"display:flex;flex-direction:row;justify-content: space-evenly;\">\n",
    "<img src=\"tecnm.png\" style=\"height:100px;\"/>\n",
    "<img src=\"itcolima.svg\" style=\"width:100px\"/>\n",
    "</div>\n",
    "<div style=\"display:flex;flex-direction:column;gap:20px;text-align:center\">\n",
    "<h1>Tecnológico Nacional de México campus Colima</h1>\n",
    "<h2>Maestría en Sistemas Computacionales</h2>\n",
    "<h2>Tecnologías de programación</h2>\n",
    "<h2>Introducción a SQLAlchemy</h2>\n",
    "<h2>D. en C. Patricia Elizabeth Figueroa Millán</h2>\n",
    "<h3>Angel Primitivo Vejar Cortés | G2146001 </h3>\n",
    "<p style=\"text-align:right;\">Villa de Álvarez, Colima - 15 de diciembre de 2022</p>\n",
    "<p></p>\n",
    "</div>"
   ]
  },
  {
   "attachments": {},
   "cell_type": "markdown",
   "metadata": {},
   "source": [
    "## Objetivo\n",
    "\n",
    "Que el estudiante utilice la librería SQLAlchemy para realizar operaciones CRUD en una base de datos, esto a través de su aplicación como ORM (Object Relational Mapper) para Python.\n",
    "\n",
    "## Metodología\n",
    "\n",
    "Para el desarrollo de la actividad se utilizaron los siguientes pasos:\n",
    "- Se realizó la instalación de la librería SQLAlchemy\n",
    "- Se creó una base de datos sqlite almacenada en la memoria RAM\n",
    "- Se siguieron los ejemplos de la documentación de la librería para realizar operaciones básicas en la base de datos\n",
    "- Se crearon modelos para que el ORM pudiera realizar consultas a la base de datos\n",
    "- Se ejecutaron distintas consultas con filtros y ordenamientos\n",
    "\n",
    "## Materiales\n",
    "Para el desarrollo de la actividad se utilizaron los siguientes materiales:\n",
    "* Computadora con acceso a internet\n",
    "* Editor de texto (Visual Studio Code)\n",
    "* Aplicación jupyter notebook\n"
   ]
  },
  {
   "attachments": {},
   "cell_type": "markdown",
   "metadata": {},
   "source": [
    "## Desarrollo\n",
    "### Librería y conexión"
   ]
  },
  {
   "cell_type": "code",
   "execution_count": 1,
   "metadata": {},
   "outputs": [],
   "source": [
    "import sqlalchemy\n",
    "\n",
    "# engine = sqlalchemy.create_engine('sqlite:///data.db', echo=True) # echo=True prints out the SQL commands\n",
    "engine = sqlalchemy.create_engine('sqlite:///:memory:', echo=True) # memory is for testing\n",
    "\n",
    "# Declarative Base\n",
    "from sqlalchemy.ext.declarative import declarative_base\n",
    "Base = declarative_base()\n",
    "\n",
    "# Data types\n",
    "from sqlalchemy import Column, Integer, String\n"
   ]
  },
  {
   "attachments": {},
   "cell_type": "markdown",
   "metadata": {},
   "source": [
    "### Definición de modelos"
   ]
  },
  {
   "cell_type": "code",
   "execution_count": 2,
   "metadata": {},
   "outputs": [],
   "source": [
    "# Model definition\n",
    "class User(Base):\n",
    "    __tablename__ = 'users'\n",
    "    \n",
    "    id = Column(Integer, primary_key=True)\n",
    "    name = Column(String)\n",
    "    fullname = Column(String)\n",
    "    password = Column(String)\n",
    "\n",
    "    def __repr__(self):\n",
    "        return \"<User(name='%s', fullname='%s', password='%s')>\" % (self.name, self.fullname, self.password)"
   ]
  },
  {
   "attachments": {},
   "cell_type": "markdown",
   "metadata": {},
   "source": [
    "### Creación de tablas a partir de modelos"
   ]
  },
  {
   "cell_type": "code",
   "execution_count": 3,
   "metadata": {},
   "outputs": [
    {
     "name": "stdout",
     "output_type": "stream",
     "text": [
      "2022-12-15 17:21:38,619 INFO sqlalchemy.engine.Engine BEGIN (implicit)\n",
      "2022-12-15 17:21:38,626 INFO sqlalchemy.engine.Engine PRAGMA main.table_info(\"users\")\n",
      "2022-12-15 17:21:38,631 INFO sqlalchemy.engine.Engine [raw sql] ()\n",
      "2022-12-15 17:21:38,637 INFO sqlalchemy.engine.Engine PRAGMA temp.table_info(\"users\")\n",
      "2022-12-15 17:21:38,643 INFO sqlalchemy.engine.Engine [raw sql] ()\n",
      "2022-12-15 17:21:38,649 INFO sqlalchemy.engine.Engine \n",
      "CREATE TABLE users (\n",
      "\tid INTEGER NOT NULL, \n",
      "\tname VARCHAR, \n",
      "\tfullname VARCHAR, \n",
      "\tpassword VARCHAR, \n",
      "\tPRIMARY KEY (id)\n",
      ")\n",
      "\n",
      "\n",
      "2022-12-15 17:21:38,651 INFO sqlalchemy.engine.Engine [no key 0.00249s] ()\n",
      "2022-12-15 17:21:38,657 INFO sqlalchemy.engine.Engine COMMIT\n"
     ]
    }
   ],
   "source": [
    "# Table configuration\n",
    "Base.metadata.create_all(engine)"
   ]
  },
  {
   "attachments": {},
   "cell_type": "markdown",
   "metadata": {},
   "source": [
    "### Creación de sesión"
   ]
  },
  {
   "cell_type": "code",
   "execution_count": 4,
   "metadata": {},
   "outputs": [],
   "source": [
    "from sqlalchemy.orm import sessionmaker\n",
    "\n",
    "Session = sessionmaker(bind=engine)\n",
    "session = Session()"
   ]
  },
  {
   "attachments": {},
   "cell_type": "markdown",
   "metadata": {},
   "source": [
    "### Prueba de modelos"
   ]
  },
  {
   "cell_type": "code",
   "execution_count": 5,
   "metadata": {},
   "outputs": [
    {
     "data": {
      "text/plain": [
       "<User(name='ed', fullname='Ed Jones', password='edspassword')>"
      ]
     },
     "execution_count": 5,
     "metadata": {},
     "output_type": "execute_result"
    }
   ],
   "source": [
    "# Create a new user\n",
    "ed_user = User(name='ed', fullname='Ed Jones', password='edspassword')\n",
    "session.add(ed_user)\n",
    "ed_user"
   ]
  },
  {
   "cell_type": "code",
   "execution_count": 6,
   "metadata": {},
   "outputs": [
    {
     "name": "stdout",
     "output_type": "stream",
     "text": [
      "2022-12-15 17:21:39,546 INFO sqlalchemy.engine.Engine BEGIN (implicit)\n",
      "2022-12-15 17:21:39,558 INFO sqlalchemy.engine.Engine INSERT INTO users (name, fullname, password) VALUES (?, ?, ?)\n",
      "2022-12-15 17:21:39,561 INFO sqlalchemy.engine.Engine [generated in 0.00391s] ('ed', 'Ed Jones', 'edspassword')\n",
      "2022-12-15 17:21:39,575 INFO sqlalchemy.engine.Engine SELECT users.id AS users_id, users.name AS users_name, users.fullname AS users_fullname, users.password AS users_password \n",
      "FROM users \n",
      "WHERE users.name = ?\n",
      " LIMIT ? OFFSET ?\n",
      "2022-12-15 17:21:39,581 INFO sqlalchemy.engine.Engine [generated in 0.00578s] ('ed', 1, 0)\n",
      "<User(name='ed', fullname='Ed Jones', password='edspassword')>\n"
     ]
    }
   ],
   "source": [
    "user = session.query(User).filter_by(name='ed').first()\n",
    "if user:\n",
    "    print(user)\n",
    "else:\n",
    "    print('No user found')"
   ]
  },
  {
   "cell_type": "code",
   "execution_count": 7,
   "metadata": {},
   "outputs": [],
   "source": [
    "# Multiple modifications in a single commit\n",
    "session.add_all([\n",
    "    User(name='wendy', fullname='Wendy Williams', password='foobar'),\n",
    "    User(name='mary', fullname='Mary Contrary', password='xxg527'),\n",
    "    User(name='fred', fullname='Fred Flinstone', password='blah')])\n",
    "\n",
    "ed_user.password = 'f8s7ccs'\n",
    "ed_user.fullname = 'Eduardo Jones'"
   ]
  },
  {
   "cell_type": "code",
   "execution_count": 8,
   "metadata": {},
   "outputs": [
    {
     "name": "stdout",
     "output_type": "stream",
     "text": [
      "2022-12-15 17:21:39,934 INFO sqlalchemy.engine.Engine UPDATE users SET fullname=?, password=? WHERE users.id = ?\n",
      "2022-12-15 17:21:39,938 INFO sqlalchemy.engine.Engine [generated in 0.00431s] ('Eduardo Jones', 'f8s7ccs', 1)\n",
      "2022-12-15 17:21:39,943 INFO sqlalchemy.engine.Engine INSERT INTO users (name, fullname, password) VALUES (?, ?, ?)\n",
      "2022-12-15 17:21:39,946 INFO sqlalchemy.engine.Engine [cached since 0.388s ago] ('wendy', 'Wendy Williams', 'foobar')\n",
      "2022-12-15 17:21:39,949 INFO sqlalchemy.engine.Engine INSERT INTO users (name, fullname, password) VALUES (?, ?, ?)\n",
      "2022-12-15 17:21:39,952 INFO sqlalchemy.engine.Engine [cached since 0.3943s ago] ('mary', 'Mary Contrary', 'xxg527')\n",
      "2022-12-15 17:21:39,958 INFO sqlalchemy.engine.Engine INSERT INTO users (name, fullname, password) VALUES (?, ?, ?)\n",
      "2022-12-15 17:21:39,961 INFO sqlalchemy.engine.Engine [cached since 0.4037s ago] ('fred', 'Fred Flinstone', 'blah')\n",
      "2022-12-15 17:21:39,965 INFO sqlalchemy.engine.Engine COMMIT\n"
     ]
    }
   ],
   "source": [
    "session.commit()"
   ]
  },
  {
   "attachments": {},
   "cell_type": "markdown",
   "metadata": {},
   "source": [
    "### Retroceder cambios\n"
   ]
  },
  {
   "cell_type": "code",
   "execution_count": 9,
   "metadata": {},
   "outputs": [
    {
     "name": "stdout",
     "output_type": "stream",
     "text": [
      "2022-12-15 17:21:40,549 INFO sqlalchemy.engine.Engine BEGIN (implicit)\n",
      "2022-12-15 17:21:40,559 INFO sqlalchemy.engine.Engine SELECT users.id AS users_id, users.name AS users_name, users.password AS users_password \n",
      "FROM users \n",
      "WHERE users.id = ?\n",
      "2022-12-15 17:21:40,563 INFO sqlalchemy.engine.Engine [generated in 0.00374s] (1,)\n",
      "2022-12-15 17:21:40,570 INFO sqlalchemy.engine.Engine UPDATE users SET fullname=? WHERE users.id = ?\n",
      "2022-12-15 17:21:40,574 INFO sqlalchemy.engine.Engine [generated in 0.00401s] ('Ed Jones', 1)\n",
      "2022-12-15 17:21:40,578 INFO sqlalchemy.engine.Engine INSERT INTO users (name, fullname, password) VALUES (?, ?, ?)\n",
      "2022-12-15 17:21:40,584 INFO sqlalchemy.engine.Engine [cached since 1.027s ago] ('fakeuser', 'Invalid', '12345')\n",
      "2022-12-15 17:21:40,592 INFO sqlalchemy.engine.Engine SELECT users.id AS users_id, users.name AS users_name, users.fullname AS users_fullname, users.password AS users_password \n",
      "FROM users \n",
      "WHERE users.name IN (?, ?)\n",
      "2022-12-15 17:21:40,594 INFO sqlalchemy.engine.Engine [generated in 0.00312s] ('ed', 'fakeuser')\n"
     ]
    },
    {
     "data": {
      "text/plain": [
       "[<User(name='ed', fullname='Ed Jones', password='f8s7ccs')>,\n",
       " <User(name='fakeuser', fullname='Invalid', password='12345')>]"
      ]
     },
     "execution_count": 9,
     "metadata": {},
     "output_type": "execute_result"
    }
   ],
   "source": [
    "# Cambios nuevos\n",
    "ed_user.fullname = 'Ed Jones'\n",
    "\n",
    "fake_user = User(name='fakeuser', fullname='Invalid', password='12345')\n",
    "session.add(fake_user)\n",
    "\n",
    "session.query(User).filter(User.name.in_(['ed', 'fakeuser'])).all()\n"
   ]
  },
  {
   "cell_type": "code",
   "execution_count": 10,
   "metadata": {},
   "outputs": [
    {
     "name": "stdout",
     "output_type": "stream",
     "text": [
      "2022-12-15 17:21:40,830 INFO sqlalchemy.engine.Engine ROLLBACK\n",
      "2022-12-15 17:21:40,836 INFO sqlalchemy.engine.Engine BEGIN (implicit)\n",
      "2022-12-15 17:21:40,840 INFO sqlalchemy.engine.Engine SELECT users.id AS users_id, users.name AS users_name, users.fullname AS users_fullname, users.password AS users_password \n",
      "FROM users \n",
      "WHERE users.name IN (?, ?)\n",
      "2022-12-15 17:21:40,845 INFO sqlalchemy.engine.Engine [cached since 0.2537s ago] ('ed', 'fakeuser')\n"
     ]
    },
    {
     "data": {
      "text/plain": [
       "[<User(name='ed', fullname='Eduardo Jones', password='f8s7ccs')>]"
      ]
     },
     "execution_count": 10,
     "metadata": {},
     "output_type": "execute_result"
    }
   ],
   "source": [
    "# Rollback\n",
    "session.rollback()\n",
    "session.query(User).filter(User.name.in_(['ed', 'fakeuser'])).all()\n"
   ]
  },
  {
   "attachments": {},
   "cell_type": "markdown",
   "metadata": {},
   "source": [
    "### Consultas"
   ]
  },
  {
   "cell_type": "code",
   "execution_count": 11,
   "metadata": {},
   "outputs": [
    {
     "name": "stdout",
     "output_type": "stream",
     "text": [
      "2022-12-15 17:21:40,980 INFO sqlalchemy.engine.Engine SELECT users.id AS users_id, users.name AS users_name, users.fullname AS users_fullname, users.password AS users_password \n",
      "FROM users ORDER BY users.id\n",
      "2022-12-15 17:21:40,984 INFO sqlalchemy.engine.Engine [generated in 0.00446s] ()\n",
      "<User(name='ed', fullname='Eduardo Jones', password='f8s7ccs')>\n",
      "<User(name='wendy', fullname='Wendy Williams', password='foobar')>\n",
      "<User(name='mary', fullname='Mary Contrary', password='xxg527')>\n",
      "<User(name='fred', fullname='Fred Flinstone', password='blah')>\n"
     ]
    }
   ],
   "source": [
    "for instance in session.query(User).order_by(User.id):\n",
    "    print(instance)"
   ]
  },
  {
   "cell_type": "code",
   "execution_count": 12,
   "metadata": {},
   "outputs": [
    {
     "name": "stdout",
     "output_type": "stream",
     "text": [
      "2022-12-15 17:21:41,100 INFO sqlalchemy.engine.Engine SELECT users.name AS users_name, users.fullname AS users_fullname \n",
      "FROM users\n",
      "2022-12-15 17:21:41,104 INFO sqlalchemy.engine.Engine [generated in 0.00390s] ()\n",
      "ed Eduardo Jones\n",
      "wendy Wendy Williams\n",
      "mary Mary Contrary\n",
      "fred Fred Flinstone\n"
     ]
    }
   ],
   "source": [
    "for name, fullname in session.query(User.name, User.fullname):\n",
    "    print(name, fullname)"
   ]
  },
  {
   "attachments": {},
   "cell_type": "markdown",
   "metadata": {},
   "source": [
    "### Filtro"
   ]
  },
  {
   "cell_type": "code",
   "execution_count": 13,
   "metadata": {},
   "outputs": [
    {
     "name": "stdout",
     "output_type": "stream",
     "text": [
      "2022-12-15 17:21:41,275 INFO sqlalchemy.engine.Engine SELECT users.id AS users_id, users.name AS users_name, users.fullname AS users_fullname, users.password AS users_password \n",
      "FROM users \n",
      "WHERE users.name = ?\n",
      "2022-12-15 17:21:41,280 INFO sqlalchemy.engine.Engine [generated in 0.00489s] ('ed',)\n",
      "<User(name='ed', fullname='Eduardo Jones', password='f8s7ccs')>\n"
     ]
    }
   ],
   "source": [
    "# equals\n",
    "for user in session.query(User).filter(User.name=='ed'):\n",
    "    print(user)"
   ]
  },
  {
   "cell_type": "code",
   "execution_count": 14,
   "metadata": {},
   "outputs": [
    {
     "name": "stdout",
     "output_type": "stream",
     "text": [
      "2022-12-15 17:21:41,507 INFO sqlalchemy.engine.Engine SELECT users.id AS users_id, users.name AS users_name, users.fullname AS users_fullname, users.password AS users_password \n",
      "FROM users \n",
      "WHERE users.name != ?\n",
      "2022-12-15 17:21:41,513 INFO sqlalchemy.engine.Engine [generated in 0.00567s] ('ed',)\n",
      "<User(name='wendy', fullname='Wendy Williams', password='foobar')>\n",
      "<User(name='mary', fullname='Mary Contrary', password='xxg527')>\n",
      "<User(name='fred', fullname='Fred Flinstone', password='blah')>\n"
     ]
    }
   ],
   "source": [
    "# not equals\n",
    "for user in session.query(User).filter(User.name!='ed'):\n",
    "    print(user)"
   ]
  },
  {
   "cell_type": "code",
   "execution_count": 15,
   "metadata": {},
   "outputs": [
    {
     "name": "stdout",
     "output_type": "stream",
     "text": [
      "2022-12-15 17:21:41,661 INFO sqlalchemy.engine.Engine SELECT users.id AS users_id, users.name AS users_name, users.fullname AS users_fullname, users.password AS users_password \n",
      "FROM users \n",
      "WHERE users.name LIKE ?\n",
      "2022-12-15 17:21:41,664 INFO sqlalchemy.engine.Engine [generated in 0.00295s] ('%ed%',)\n",
      "<User(name='ed', fullname='Eduardo Jones', password='f8s7ccs')>\n",
      "<User(name='fred', fullname='Fred Flinstone', password='blah')>\n"
     ]
    }
   ],
   "source": [
    "# like\n",
    "for user in session.query(User).filter(User.name.like('%ed%')):\n",
    "    print(user)"
   ]
  },
  {
   "cell_type": "code",
   "execution_count": 16,
   "metadata": {},
   "outputs": [
    {
     "name": "stdout",
     "output_type": "stream",
     "text": [
      "2022-12-15 17:21:41,807 INFO sqlalchemy.engine.Engine SELECT users.id AS users_id, users.name AS users_name, users.fullname AS users_fullname, users.password AS users_password \n",
      "FROM users \n",
      "WHERE users.name IN (?, ?, ?)\n",
      "2022-12-15 17:21:41,811 INFO sqlalchemy.engine.Engine [cached since 1.22s ago] ('ed', 'wendy', 'gil')\n",
      "<User(name='ed', fullname='Eduardo Jones', password='f8s7ccs')>\n",
      "<User(name='wendy', fullname='Wendy Williams', password='foobar')>\n"
     ]
    }
   ],
   "source": [
    "# in\n",
    "for user in session.query(User).filter(User.name.in_(['ed', 'wendy', 'gil'])):\n",
    "    print(user)\n",
    "    "
   ]
  },
  {
   "cell_type": "code",
   "execution_count": 17,
   "metadata": {},
   "outputs": [
    {
     "name": "stdout",
     "output_type": "stream",
     "text": [
      "2022-12-15 17:21:41,968 INFO sqlalchemy.engine.Engine SELECT users.id AS users_id, users.name AS users_name, users.fullname AS users_fullname, users.password AS users_password \n",
      "FROM users \n",
      "WHERE (users.name NOT IN (?, ?, ?))\n",
      "2022-12-15 17:21:41,972 INFO sqlalchemy.engine.Engine [generated in 0.00369s] ('ed', 'wendy', 'gil')\n",
      "<User(name='mary', fullname='Mary Contrary', password='xxg527')>\n",
      "<User(name='fred', fullname='Fred Flinstone', password='blah')>\n"
     ]
    }
   ],
   "source": [
    "# not in\n",
    "for user in session.query(User).filter(~User.name.in_(['ed', 'wendy', 'gil'])):\n",
    "    print(user)"
   ]
  },
  {
   "cell_type": "code",
   "execution_count": 18,
   "metadata": {},
   "outputs": [
    {
     "name": "stdout",
     "output_type": "stream",
     "text": [
      "2022-12-15 17:21:42,046 INFO sqlalchemy.engine.Engine SELECT users.id AS users_id, users.name AS users_name, users.fullname AS users_fullname, users.password AS users_password \n",
      "FROM users \n",
      "WHERE users.name = ? AND users.fullname = ?\n",
      "2022-12-15 17:21:42,049 INFO sqlalchemy.engine.Engine [generated in 0.00311s] ('ed', 'Eduardo Jones')\n",
      "<User(name='ed', fullname='Eduardo Jones', password='f8s7ccs')>\n"
     ]
    }
   ],
   "source": [
    "# And\n",
    "for user in session.query(User).filter(User.name=='ed', User.fullname=='Eduardo Jones'):\n",
    "    print(user)"
   ]
  },
  {
   "cell_type": "code",
   "execution_count": 19,
   "metadata": {},
   "outputs": [
    {
     "name": "stdout",
     "output_type": "stream",
     "text": [
      "2022-12-15 17:21:42,131 INFO sqlalchemy.engine.Engine SELECT users.id AS users_id, users.name AS users_name, users.fullname AS users_fullname, users.password AS users_password \n",
      "FROM users \n",
      "WHERE users.name = ? OR users.name = ?\n",
      "2022-12-15 17:21:42,136 INFO sqlalchemy.engine.Engine [generated in 0.00445s] ('ed', 'wendy')\n",
      "<User(name='ed', fullname='Eduardo Jones', password='f8s7ccs')>\n",
      "<User(name='wendy', fullname='Wendy Williams', password='foobar')>\n"
     ]
    }
   ],
   "source": [
    "# Or\n",
    "for user in session.query(User).filter(sqlalchemy.or_(User.name=='ed', User.name=='wendy')):\n",
    "    print(user)"
   ]
  },
  {
   "attachments": {},
   "cell_type": "markdown",
   "metadata": {},
   "source": [
    "### Relaciones"
   ]
  },
  {
   "cell_type": "code",
   "execution_count": 20,
   "metadata": {},
   "outputs": [],
   "source": [
    "from sqlalchemy import ForeignKey\n",
    "from sqlalchemy.orm import relationship\n",
    "\n",
    "class Address(Base):\n",
    "    __tablename__ = 'addresses'\n",
    "    id = Column(Integer, primary_key=True)\n",
    "    email_address = Column(String, nullable=False)\n",
    "    user_id = Column(Integer, ForeignKey('users.id'))\n",
    "    user = relationship(\"User\", back_populates=\"addresses\")\n",
    "    \n",
    "    def __repr__(self):\n",
    "        return \"<Address(email_address='%s')>\" % self.email_address"
   ]
  },
  {
   "cell_type": "code",
   "execution_count": 21,
   "metadata": {},
   "outputs": [
    {
     "name": "stdout",
     "output_type": "stream",
     "text": [
      "2022-12-15 17:21:42,285 INFO sqlalchemy.engine.Engine BEGIN (implicit)\n",
      "2022-12-15 17:21:42,288 INFO sqlalchemy.engine.Engine PRAGMA main.table_info(\"users\")\n",
      "2022-12-15 17:21:42,292 INFO sqlalchemy.engine.Engine [raw sql] ()\n",
      "2022-12-15 17:21:42,296 INFO sqlalchemy.engine.Engine PRAGMA main.table_info(\"addresses\")\n",
      "2022-12-15 17:21:42,298 INFO sqlalchemy.engine.Engine [raw sql] ()\n",
      "2022-12-15 17:21:42,302 INFO sqlalchemy.engine.Engine PRAGMA temp.table_info(\"addresses\")\n",
      "2022-12-15 17:21:42,304 INFO sqlalchemy.engine.Engine [raw sql] ()\n",
      "2022-12-15 17:21:42,309 INFO sqlalchemy.engine.Engine \n",
      "CREATE TABLE addresses (\n",
      "\tid INTEGER NOT NULL, \n",
      "\temail_address VARCHAR NOT NULL, \n",
      "\tuser_id INTEGER, \n",
      "\tPRIMARY KEY (id), \n",
      "\tFOREIGN KEY(user_id) REFERENCES users (id)\n",
      ")\n",
      "\n",
      "\n",
      "2022-12-15 17:21:42,313 INFO sqlalchemy.engine.Engine [no key 0.00353s] ()\n",
      "2022-12-15 17:21:42,318 INFO sqlalchemy.engine.Engine COMMIT\n"
     ]
    }
   ],
   "source": [
    "User.addresses = relationship(\"Address\", order_by=Address.id, back_populates=\"user\")\n",
    "\n",
    "Base.metadata.create_all(engine)"
   ]
  },
  {
   "cell_type": "code",
   "execution_count": 22,
   "metadata": {},
   "outputs": [
    {
     "name": "stdout",
     "output_type": "stream",
     "text": [
      "2022-12-15 17:21:42,394 INFO sqlalchemy.engine.Engine SELECT addresses.id AS addresses_id, addresses.email_address AS addresses_email_address, addresses.user_id AS addresses_user_id \n",
      "FROM addresses \n",
      "WHERE ? = addresses.user_id ORDER BY addresses.id\n",
      "2022-12-15 17:21:42,397 INFO sqlalchemy.engine.Engine [generated in 0.00292s] (1,)\n",
      "2022-12-15 17:21:42,406 INFO sqlalchemy.engine.Engine INSERT INTO addresses (email_address, user_id) VALUES (?, ?)\n",
      "2022-12-15 17:21:42,409 INFO sqlalchemy.engine.Engine [generated in 0.00279s] ('hola@col.com', 1)\n",
      "2022-12-15 17:21:42,412 INFO sqlalchemy.engine.Engine INSERT INTO addresses (email_address, user_id) VALUES (?, ?)\n",
      "2022-12-15 17:21:42,415 INFO sqlalchemy.engine.Engine [cached since 0.00908s ago] ('rock@lml.com', 1)\n",
      "2022-12-15 17:21:42,421 INFO sqlalchemy.engine.Engine COMMIT\n"
     ]
    }
   ],
   "source": [
    "# Add addresses to the user\n",
    "ed_user.addresses = [Address(email_address=\"hola@col.com\"), Address(email_address=\"rock@lml.com\")]\n",
    "\n",
    "session.add(ed_user)\n",
    "session.commit()"
   ]
  },
  {
   "cell_type": "code",
   "execution_count": 23,
   "metadata": {},
   "outputs": [
    {
     "name": "stdout",
     "output_type": "stream",
     "text": [
      "2022-12-15 17:21:42,548 INFO sqlalchemy.engine.Engine BEGIN (implicit)\n",
      "2022-12-15 17:21:42,552 INFO sqlalchemy.engine.Engine SELECT users.id AS users_id, users.name AS users_name, users.fullname AS users_fullname, users.password AS users_password, addresses.id AS addresses_id, addresses.email_address AS addresses_email_address, addresses.user_id AS addresses_user_id \n",
      "FROM users, addresses \n",
      "WHERE users.id = addresses.user_id\n",
      "2022-12-15 17:21:42,557 INFO sqlalchemy.engine.Engine [generated in 0.00430s] ()\n",
      "<User(name='ed', fullname='Eduardo Jones', password='f8s7ccs')>\n",
      "<Address(email_address='hola@col.com')>\n",
      "<User(name='ed', fullname='Eduardo Jones', password='f8s7ccs')>\n",
      "<Address(email_address='rock@lml.com')>\n"
     ]
    }
   ],
   "source": [
    "# print all users and their addresses\n",
    "for u, a in session.query(User, Address).filter(User.id==Address.user_id):\n",
    "    print(u)\n",
    "    print(a)"
   ]
  },
  {
   "attachments": {},
   "cell_type": "markdown",
   "metadata": {},
   "source": [
    "## Resultados\n",
    "\n",
    "Las evidencias del funcionamiento pueden ser observadas en las salidas de las celdas de código de la aplicación jupyter notebook. No obstante, se destaca la facilidad del uso de objetos y su reflejo en la base de datos.\n",
    "\n",
    "## Conclusiones\n",
    "\n",
    "El uso de ORM, en específico SQLAlchemy en Python es que proporcionan una forma fácil y eficiente de almacenar y manipular información mediante el uso de objetos en lugar de escribir consultas SQL complejas. Esto permite a los desarrolladores enfocarse en la lógica de la aplicación en lugar de preocuparse por la sintaxis de la base de datos. Además, SQLAlchemy ofrece una amplia gama de características avanzadas y herramientas para trabajar con bases de datos de una manera eficiente y segura. En resumen, el uso de ORM y SQLAlchemy en Python puede simplificar significativamente el proceso de almacenamiento y manipulación de datos en una aplicación.\n"
   ]
  },
  {
   "attachments": {},
   "cell_type": "markdown",
   "metadata": {},
   "source": [
    "## Bibliografía\n",
    "1. [SQLAlchemy](https://www.sqlalchemy.org/)\n",
    "2. [SQLAlchemy ORM Tutorial for Python Developers](https://auth0.com/blog/sqlalchemy-orm-tutorial-for-python-developers/)\n",
    "3. [SQLAlchemy query filter](https://docs.sqlalchemy.org/en/14/orm/tutorial.html#querying-with-filters)\n"
   ]
  }
 ],
 "metadata": {
  "kernelspec": {
   "display_name": "Python 3",
   "language": "python",
   "name": "python3"
  },
  "language_info": {
   "codemirror_mode": {
    "name": "ipython",
    "version": 3
   },
   "file_extension": ".py",
   "mimetype": "text/x-python",
   "name": "python",
   "nbconvert_exporter": "python",
   "pygments_lexer": "ipython3",
   "version": "3.10.5"
  },
  "orig_nbformat": 4,
  "vscode": {
   "interpreter": {
    "hash": "369f2c481f4da34e4445cda3fffd2e751bd1c4d706f27375911949ba6bb62e1c"
   }
  }
 },
 "nbformat": 4,
 "nbformat_minor": 2
}
